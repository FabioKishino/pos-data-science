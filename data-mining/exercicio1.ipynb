{
 "cells": [
  {
   "cell_type": "markdown",
   "id": "52562feb",
   "metadata": {},
   "source": [
    "## Exercício 1 - Coleta de dados da Web\n",
    "### Aluno: Fabio Kishino"
   ]
  },
  {
   "cell_type": "markdown",
   "id": "4f4f9d75",
   "metadata": {},
   "source": [
    "### 1. Faça uma busca por 50 vídeos com a palavra chave 'eleição'. Faça a procura por conteúdos em São Paulo no período do segundo turno da última eleição presidencial. Identifique o vídeo com mais comentários e exiba as informações desse vídeo"
   ]
  },
  {
   "cell_type": "code",
   "execution_count": 10,
   "id": "498791ef",
   "metadata": {},
   "outputs": [],
   "source": [
    "from pyyoutube import Api\n",
    "import os\n",
    "\n",
    "API_KEY = os.getenv(\"API_KEY\")\n",
    "api = Api(api_key=API_KEY)\n",
    "\n",
    "# Busca por 50 vídeos com a palavra chave 'eleição'\n",
    "eleicoes_videos = api.search_by_keywords(q=\"eleição\", search_type=\"video\", count=50)\n",
    "\n",
    "# Buscar conteúdos em São Paulo no período do segundo turno da última eleição presidencial\n",
    "# Segundo turno 2022: 30 de outubro de 2022\n",
    "sp_videos = api.search_by_keywords(\n",
    "    q=\"eleição\", \n",
    "    search_type=\"video\", \n",
    "    location=\"-23.5505,-46.6333\",\n",
    "    location_radius=\"50km\", \n",
    "    published_after=\"2022-10-25T00:00:00Z\",  # 5 dias antes do segundo turno\n",
    "    published_before=\"2022-11-05T00:00:00Z\",  # 5 dias depois do segundo turno\n",
    "    count=50\n",
    ")"
   ]
  },
  {
   "cell_type": "code",
   "execution_count": 11,
   "id": "212e784b",
   "metadata": {},
   "outputs": [
    {
     "data": {
      "text/plain": [
       "{'kind': 'youtube#searchResult',\n",
       " 'etag': '89G_lchfI-dDNJDlr46Xoo8V27Q',\n",
       " 'id': {'kind': 'youtube#video',\n",
       "  'videoId': '3YG062ig0Fo',\n",
       "  'channelId': None,\n",
       "  'playlistId': None},\n",
       " 'snippet': {'publishedAt': '2022-10-30T04:35:31Z',\n",
       "  'channelId': 'UClaTlgCeEz7DPhXzyYmvGBw',\n",
       "  'title': 'Sobre Violência, Abuso, Eleição e Democracia,  por Alfredo Attié',\n",
       "  'description': '\"Hoje é 30 de outubro, dia da eleição, em segundo turno. Gravo este vídeo a pedido de amigas e amigos, que gostariam de ouvir ...',\n",
       "  'thumbnails': {'default': {'url': 'https://i.ytimg.com/vi/3YG062ig0Fo/default.jpg',\n",
       "    'width': 120,\n",
       "    'height': 90},\n",
       "   'medium': {'url': 'https://i.ytimg.com/vi/3YG062ig0Fo/mqdefault.jpg',\n",
       "    'width': 320,\n",
       "    'height': 180},\n",
       "   'high': {'url': 'https://i.ytimg.com/vi/3YG062ig0Fo/hqdefault.jpg',\n",
       "    'width': 480,\n",
       "    'height': 360},\n",
       "   'standard': None,\n",
       "   'maxres': None},\n",
       "  'channelTitle': 'Alfredo Attié Academia Paulista de Direito',\n",
       "  'liveBroadcastContent': 'none'}}"
      ]
     },
     "execution_count": 11,
     "metadata": {},
     "output_type": "execute_result"
    }
   ],
   "source": [
    "sp_videos.items[0].to_dict()"
   ]
  },
  {
   "cell_type": "markdown",
   "id": "c134ec9c",
   "metadata": {},
   "source": [
    "### 50 Vídeos com a palavra chave \"eleição\""
   ]
  },
  {
   "cell_type": "code",
   "execution_count": 12,
   "id": "d3a576fd",
   "metadata": {},
   "outputs": [
    {
     "name": "stdout",
     "output_type": "stream",
     "text": [
      "Vídeo 1: Reviravolta em CPMI do INSS passa por eleição de 2026 | BASTIDORES CNN\n",
      "Vídeo 2: Eleições no Corinthians: Craque Neto promove resenha especial, revela personagens e explica dívidas\n",
      "Vídeo 3: Eleições no Corinthians: Ronaldo Giovaneli diz que é preciso ‘limpar’ o Timão’\n",
      "Vídeo 4: CANDIDATO À PRESIDÊNCIA DO CORINTHIANS CANCELA ENTREVISTAS ÀS VÉSPERAS DA ELEIÇÃO\n",
      "Vídeo 5: Eleição presidencial da Bolívia tem resultado histórico com dois candidatos de direita no 2º turno\n",
      "Vídeo 6: Eleições na Bolívia: Apuração de votos está em andamento | AGORA CNN\n",
      "Vídeo 7: Análise: Bolívia deve ter governo de direita após eleições | CNN PRIME TIME\n",
      "Vídeo 8: Direita comemora derrota de governo na CPMI do INSS com eleição de Carlos Viana para presidência\n",
      "Vídeo 9: ELEIÇÃO E TENTATIVA DE NEGOCIAR O TRANSFERBAN | VESSONI ATUALIZA AS NOTÍCIAS DOS BASTIDORES DO TIMÃO\n",
      "Vídeo 10: CPMI do INSS: reunião de instalação e eleição - 20/08/25 (parte 2)\n",
      "Vídeo 11: Análise: Eleição traz esperança para a Bolívia | AGORA CNN\n",
      "Vídeo 12: Randolfe fala sobre derrota do governo na eleição para a presidência da CPMI do INSS\n",
      "Vídeo 13: Eleições na Bolívia: Candidatos de direita lideram votações e presidência será decidida em 2º turno\n",
      "Vídeo 14: Pesquisas de boca de urna na Bolívia indicam segundo turno nas eleições\n",
      "Vídeo 15: CPMI do INSS: reunião de instalação e eleição - 20/08/25 (parte 1)\n",
      "Vídeo 16: Eleição na Bolívia: direita pode retornar ao poder após longa hegemonia da esquerda\n",
      "Vídeo 17: Eleição na Bolívia pode tirar esquerda do poder após quase 20 anos\n",
      "Vídeo 18: 🔴CORINTHIANS: ELEIÇÃO SE APROXIMA! O QUE DEVE MUDAR? COMO DORIVAL VAI MONTAR O TIME CONTRA O VASCO?\n",
      "Vídeo 19: Bolívia terá segundo turno entre senador de centro-direita e ex-presidente conservador | AFP\n",
      "Vídeo 20: Nova eleição no Corinthians! Quem será o próximo presidente do Timão?\n",
      "Vídeo 21: Eduardo Girão comenta eleição de Carlos Viana para presidir a CPMI do INSS\n",
      "Vídeo 22: AO VIVO: CPMI do INSS começa AGORA — veja a eleição do comando da comissão e os primeiros debates\n",
      "Vídeo 23: Segredo interno do Corinthians pode impactar eleição do clube!\n",
      "Vídeo 24: CARLINHOS VIDENTE: &quot;O TIME DO BOLSONARO VAI GANHAR A PROXIMA ELEIÇÃO E O PT VAI FICAR DESESPERADO!&quot;\n",
      "Vídeo 25: Eleições 2026: Lula tem empate técnico com 5 candidatos, mostra pesquisa | SBT Brasil (05/06/25)\n",
      "Vídeo 26: Eleição no Corinthians: Citadini e André Castro constrangem a Fiel Torcida\n",
      "Vídeo 27: Eleições 2022: Lula e Bolsonaro vão disputar o 2º turno | Eleições 2022\n",
      "Vídeo 28: A reação do governo Lula à derrota da esquerda na Bolívia\n",
      "Vídeo 29: Sem citar Bolsonaro, Lula fala de eleição: &#39;Não vou entregar o país de volta para bando de malucos&#39;\n",
      "Vídeo 30: CHIQUINI ALERTA: eleição de 2026 #eleições2026 #direita #conservadores #noticias #conservadorismo\n",
      "Vídeo 31: O que é eleição?\n",
      "Vídeo 32: Migração de Venezuelanos dobra após eleição de Maduro\n",
      "Vídeo 33: Eleições presidenciais na Bolívia acontecem neste fim de semana | CNN NOVO DIA\n",
      "Vídeo 34: APÓS ESQUERDA PERDER ELEIÇÃO, SUPREMA CORTE da BOLÍVIA SOLTA TODOS os PRESOS POLÍTICOS da DIREITA\n",
      "Vídeo 35: Como vencer uma eleição? O que é preciso para fazer uma campanha eleitoral?\n",
      "Vídeo 36: Corinthians se prepara para eleição indireta com três pré-candidatos\n",
      "Vídeo 37: Genial/Quaest: Se eleição de 2026 fosse hoje, Lula e Bolsonaro empatariam em 2º turno\n",
      "Vídeo 38: ELEIÇÃO FILME COMPLETO!\n",
      "Vídeo 39: TUDO O QUE NÃO TE CONTARAM SOBRE AS ELEIÇÕES NO CORINTHIANS!🚨🦅\n",
      "Vídeo 40: Como os Deputados são eleitos? - Eleição Proporcional\n",
      "Vídeo 41: Bolsonaristas demonstraram tristeza e decepção com o resultado das eleições #shorts\n",
      "Vídeo 42: Como ganhar uma eleição para vereador sem as coligações partidárias?\n",
      "Vídeo 43: Presidente do STF parabeniza Fachin pela eleição e disse ser uma sorte para o país\n",
      "Vídeo 44: Quaest eleições 2026: Lula tem 32% de intenções de voto; Bolsonaro, 26% | CNN NOVO DIA\n",
      "Vídeo 45: Bolivianos elegem novo presidente com a direita como favorita\n",
      "Vídeo 46: Leila Pereira chega à sede da CBF para eleição neste domingo\n",
      "Vídeo 47: Eleição histórica na Bolívia: direita é favorita após 20 anos de domínio da esquerda | AFP\n",
      "Vídeo 48: “Objetivo principal é derrotar Lula”, diz Caiado sobre eleição de 2026 #shorts\n",
      "Vídeo 49: Bolívia terá 2º turno com dois candidatos da direita; Rodrigo Paz lidera; confira\n",
      "Vídeo 50: Leandro Quesada critica a forma de eleição presidencial no Corinthians\n"
     ]
    }
   ],
   "source": [
    "for i in range(len(eleicoes_videos.items)):\n",
    "    print(f\"Vídeo {i+1}: {eleicoes_videos.items[i].snippet.title}\")"
   ]
  },
  {
   "cell_type": "markdown",
   "id": "5579410a",
   "metadata": {},
   "source": [
    "### 50 Vídeos com a palavra chave \"eleição\" na cidade de São Paulo"
   ]
  },
  {
   "cell_type": "code",
   "execution_count": 13,
   "id": "ae1aa6ee",
   "metadata": {},
   "outputs": [
    {
     "name": "stdout",
     "output_type": "stream",
     "text": [
      "Vídeo 1: Sobre Violência, Abuso, Eleição e Democracia,  por Alfredo Attié\n",
      "Vídeo 2: Fim da eleição! E agora? #finanças\n",
      "Vídeo 3: 30/10/2022 Eleição que ficará na história!\n",
      "Vídeo 4: Ônibus gratuito na  eleição  de 2022\n",
      "Vídeo 5: #001 - Eleições, e agora? - Aula Aberta | Rodolfo Penna\n",
      "Vídeo 6: Eleições #eleições #eleições2022\n",
      "Vídeo 7: ELEIÇÕES 2022 - SEGUNDO TURNO 28-10-22\n",
      "Vídeo 8: Bolsonaro x Lula: Quem vai ganhar a eleição?\n",
      "Vídeo 9: O cenário para o segundo turno das eleições e a reta final da campanha\n",
      "Vídeo 10: Democracia #democracia #eleições\n",
      "Vídeo 11: PRONUNCIAMENTO DE LULA APÓS VENCER AS ELEIÇÕES DE 2022\n",
      "Vídeo 12: A IMPORTÂNCIA DE MINAS GERAIS NA ELEIÇÃO BRASILEIRA\n",
      "Vídeo 13: ELEIÇÕES 2022 - PODCAST CASA ROSADA #023\n",
      "Vídeo 14: Eleição 2022#segundo #turno#candidato a governador Jerônimo.\n",
      "Vídeo 15: Borra Eleição e Futuro Mandato\n",
      "Vídeo 16: LULA PRESIDENTE: VEJA O PRIMEIRO DISCURSO DE LULA APÓS VENCER ELEIÇÃO CONTRA JAIR BOLSONARO\n",
      "Vídeo 17: Eleições 2022: Acompanhe a cobertura do SBT News e o resultado do 2º turno\n",
      "Vídeo 18: VALORANT - DOMINGO DE ELEIÇÃO 2022\n",
      "Vídeo 19: Primeiro PRONUNCIAMENTO DE LULA após VITORIA NAS ELEIÇÕES DE 2022\n",
      "Vídeo 20: MANIFESTAÇÕES, CONFUSÃO E DESESPERO - LULA ELEITO - Sinais de uma eleição polarizada.\n",
      "Vídeo 21: Obrigatoriedade do voto: idoso é obrigado a votar? | Minuto Sem Juridiquês\n",
      "Vídeo 22: T1 - #42 - BLOQUEIO NAS ESTRADAS APÓS A ELEIÇÃO - DANOS CAUSADOS AO CONSUMIDOR\n",
      "Vídeo 23: Eleições ao vivo\n",
      "Vídeo 24: Uma rápida análise sobre as eleições…\n",
      "Vídeo 25: maior manifestação do Brasil pós eleição 2022 na avenida Paulista SP  #shorts #brazil #noticias\n",
      "Vídeo 26: T1 - #42 - BLOQUEIO NAS ESTRADAS APÓS A ELEIÇÃO - DANOS CAUSADOS AO CONSUMIDOR\n",
      "Vídeo 27: Eleições ao vivo\n",
      "Vídeo 28: Uma rápida análise sobre as eleições…\n",
      "Vídeo 29: maior manifestação do Brasil pós eleição 2022 na avenida Paulista SP  #shorts #brazil #noticias\n",
      "Vídeo 30: Gigante pela própria natureza!\n",
      "Vídeo 31: Prazo para escolha do voto online ou presencial termina hoje\n",
      "Vídeo 32: Alegria dia de eleição Palmeiras campeão.  votei no 13 então.\n",
      "Vídeo 33: A PEDIDOS SOBRE O QUE VEM APOS RESULTADO ELEIÇÃO  2022 ALGUNS ACONTECIMENTOS MEU ZAP 13991115050\n",
      "Vídeo 34: LULA FAZ DISCURSO EMOCIONANTE E CRITICA BOLSONARO NA FESTA DA VITORIA\n",
      "Vídeo 35: Dia de votação/ nosso presidente voltou! ❤️\n",
      "Vídeo 36: ALEXANDRE DE MORAES SE PRONUNCIA SOBRE OPERAÇÃO DA PRF: &quot;NENHUM CASO IMPEDIU OS ELEITORES&quot;\n",
      "Vídeo 37: WILLIAM BONNER SE PRONUNCIA APÓS VIRAR MEME NAS REDES SOCIAIS | ELEIÇÕES 2022\n",
      "Vídeo 38: Jair Bolsonaro, resultado das Eleições 2022\n",
      "Vídeo 39: eu indo voltar dia eleições 💋\n",
      "Vídeo 40: A importância da democracia no 3 Setor\n",
      "Vídeo 41: #GUANAMBI #RECEBE #CANDIDATO #JERÔNIMO #ELEIÇÃO 2022 #SEGUNDO #TURNO.\n",
      "Vídeo 42: Por que Bolsonaro perdeu? #eleições2022 #lulavsbolsonaro\n",
      "Vídeo 43: Caminhoneiros e manifestantes fecham Rodovias para protestar contra Eleição do Presidente  #shorts\n",
      "Vídeo 44: [HD] Início do “CNN Eleições 2ª Edição” - CNN Brasil (30/10/22)\n",
      "Vídeo 45: DATAFOLHA: LULA TEM 49% NO 2° TURNO, E BOLSONARO, 44% | PESQUISA ELEITORAL | ELEIÇÕES 2022\n",
      "Vídeo 46: PROTESTO CONTRA FRAUDE NAS ELEIÇÕES DO SEGUNDO TURNO\n",
      "Vídeo 47: DEBATE NA GLOBO: LULA CHAMA BOLSONARO DE DESCOMPENSADO | BOLSONARO SE IRRITA E ATACA BONNER E GLOBO\n",
      "Vídeo 48: O episódio envolvendo Roberto Jefferson vai prejudicar a campanha de Bolsonaro?\n",
      "Vídeo 49: (ELEIÇÃO) O GOVERNO DO LULA DEIXOU O BRASIL INTEIRA (BR.) PARADA.Brasil closed down b&#39;cos of LULA.\n",
      "Vídeo 50: O que pode acontecer na Bolsa de Valores e com o Dólar após as eleições de 2022 ?\n"
     ]
    }
   ],
   "source": [
    "for i in range(len(sp_videos.items)):\n",
    "    print(f\"Vídeo {i+1}: {sp_videos.items[i].snippet.title}\")"
   ]
  },
  {
   "cell_type": "code",
   "execution_count": 14,
   "id": "26b6bc67",
   "metadata": {},
   "outputs": [
    {
     "name": "stdout",
     "output_type": "stream",
     "text": [
      "Vídeo com mais comentários: WILLIAM BONNER SE PRONUNCIA APÓS VIRAR MEME NAS REDES SOCIAIS | ELEIÇÕES 2022\n",
      "Quantidade de comentários: 559\n"
     ]
    }
   ],
   "source": [
    "max_amount_of_comments = 0\n",
    "video_with_more_comments = None\n",
    "\n",
    "for item in sp_videos.items:\n",
    "    video_stats = api.get_video_by_id(video_id=item.id.videoId)\n",
    "    \n",
    "    # Garantir que o campo exista\n",
    "    if video_stats.items[0].statistics.commentCount is not None:\n",
    "        comments_count = int(video_stats.items[0].statistics.commentCount)\n",
    "    else:\n",
    "        comments_count = 0\n",
    "\n",
    "    if comments_count > max_amount_of_comments:\n",
    "        max_amount_of_comments = comments_count\n",
    "        video_with_more_comments = item.snippet.title\n",
    "\n",
    "print(\"Vídeo com mais comentários:\", video_with_more_comments)\n",
    "print(\"Quantidade de comentários:\", max_amount_of_comments)\n"
   ]
  },
  {
   "cell_type": "markdown",
   "id": "438a3622",
   "metadata": {},
   "source": [
    "### 2. Faça um coletor que capture as reviews da página principal de: [Apontador - Unicamp](https://www.apontador.com.br/local/sp/campinas/faculdades_e_universidades/88Q2E372/unicamp.html.)"
   ]
  },
  {
   "cell_type": "code",
   "execution_count": 15,
   "id": "ed1521df",
   "metadata": {},
   "outputs": [
    {
     "name": "stdout",
     "output_type": "stream",
     "text": [
      "Review 1:\n",
      "A UNICAMP é uma universidade muito boa. O fato de estar um pouco distante de Campinas (40 mins) promove uma experiência diferenciada, criando uma comunidade muito mais engajada. A qualidade do ensino é de padrão mundial. Orgulho de ser ex-aluno!\n",
      "\n",
      "Review 2:\n",
      "Cursei engenharia de computação na Unicamp e foram os melhores anos da minha vida. O ambiente universitário, a abundância de conhecimento ao meu redor em todas as áreas, tudo isso contribuiu para minha formação, não apenas técnica.\n",
      "\n",
      "Voltaria a qualquer momento e a recomendo para quem quiser usufruir do melhor ensino do país, estando apto a pagar com a dedicação necessária.\n",
      "\n",
      "Review 3:\n",
      "É muito agradável estudar em um campus grande, com muitas locais para estudar: mesas no ciclo básico, biblioteca central ou de outros institutos, uma sala vazia...\n",
      "Uma universidade excelente não só pelo ensino, mas pelos pessoas, colegas e professores que realmente fazem o lugar.\n",
      "\n",
      "Review 4:\n",
      "Eita como Barao Geraldo e friooooooo aff\n",
      "\n",
      "Review 5:\n",
      "A unicamp é a maior universidade de Campinas, possuindo, inclusive, ônibus de circulação interna. O campus principal fica localizado no distrito de Barão Geraldo, em Campinas, mas há ainda outros campus menores em Limeira e Piracicaba. A universidade integra o ranking de melhores universidades do Brasil e hospeda em Campinas o Hospital das Clínicas, com atendimento gratuito integralmente pelo SUS, além de também  administrar um hospital em Sumaré. Antigamente, a universidade era conhecida pela complexidade do vestibular, que consistia de forma descritiva em ambas as fases. Hoje, a universidade se adequou ao sistema de respostas alternativas, porém, começou a requisitar 3 redações, e o número de candidatos por vaga continua bastante alto.  Ela também é conhecida pelo investimento em pesquisas e pelo desenvolvimento de novos projetos. \n",
      "A biblioteca central é gigantesca e possui inúmeros títulos disponíveis para locação e, de acordo com o tipo de formação (graduação, mestrado, doutorado), é possível pegar mais livros. \n",
      "Cada curso possui um centro específico, excepto pelo pessoal da Engenharia que possui o Ciclo Básico para todos os cursos. A universidade ainda disponibiliza moradia para os alunos carentes e que comprovarem não ter condições de se manter.\n",
      "\n",
      "Review 6:\n",
      "Unicamp é umas das mais cobiçadas universidades de Campinas e região, devido a sua imensa qualidade, por ser federal se torna a melhor faculdade da região. Sem contar o seu Campus que é sensacional, como se fosse uma cidade, possui quadras com prédios, até uma linha de ônibus circular que permanece dentro do campus apenas devido o seu tamanho. A universidade conta também com o Hospital das Clínicas, gratuito pelo SUS e administrar o hospital de Sumaré. As provas para ingressar na faculdade são por fases com respostas alternativas e requisitando cerca de 3 redações o número de candidatos por vaga é bem alto principalmente no curso de medicina, o problema fica no pagamento do vestibular que é cerca de 120~140 reais para poder executa-la. A graduação é em tempo integral com isso a faculdade possui centro de pesquisas, onde é possível fazer iniciações cientificas ou mini empresas, para que os alunos tenham uma breve praticidade no mercado de trabalho devido a dificuldade para o estagio devido ao tempo integral em aula.\n",
      "\n"
     ]
    }
   ],
   "source": [
    "import requests\n",
    "from bs4 import BeautifulSoup\n",
    "\n",
    "url = 'https://www.apontador.com.br/local/sp/campinas/faculdades_e_universidades/88Q2E372/unicamp.html'\n",
    "\n",
    "response = requests.get(url)\n",
    "soup = BeautifulSoup(response.content, 'html.parser')\n",
    "\n",
    "review_elements = soup.find_all(\"div\", {\"class\": \"store-comments__text\"})\n",
    "\n",
    "reviews = [review.get_text(strip=True) for review in review_elements]\n",
    "\n",
    "for i in range(len(reviews)):\n",
    "    print(f'Review {i+1}:')\n",
    "    print(reviews[i] + '\\n')\n"
   ]
  },
  {
   "cell_type": "markdown",
   "id": "c99b344c",
   "metadata": {},
   "source": [
    "### 3. Crie uma aplicação que usa o Selenium para abrir o site [UOL](https://www.uol.com.br/) e rolar a página para baixo até o fim do conteúdo."
   ]
  },
  {
   "cell_type": "code",
   "execution_count": null,
   "id": "91e1cdde",
   "metadata": {},
   "outputs": [
    {
     "name": "stderr",
     "output_type": "stream",
     "text": [
      "INFO:WDM:====== WebDriver manager ======\n",
      "INFO:WDM:Get LATEST chromedriver version for google-chrome\n",
      "INFO:WDM:Get LATEST chromedriver version for google-chrome\n",
      "INFO:WDM:Driver [/Users/fabiokishino/.wdm/drivers/chromedriver/mac64/139.0.7258.138/chromedriver-mac-arm64/chromedriver] found in cache\n"
     ]
    }
   ],
   "source": [
    "from selenium import webdriver\n",
    "from selenium.webdriver.chrome.service import Service\n",
    "from webdriver_manager.chrome import ChromeDriverManager\n",
    "import time\n",
    "\n",
    "# Inicializa o Chrome driver\n",
    "driver = webdriver.Chrome(service=Service(ChromeDriverManager().install()))\n",
    "\n",
    "try:\n",
    "  driver.get('https://www.uol.com.br/')\n",
    "\n",
    "  driver.execute_script(\"window.scrollTo(0, document.body.scrollHeight);\")\n",
    "\n",
    "  time.sleep(5)\n",
    "  \n",
    "finally:\n",
    "  driver.quit()\n"
   ]
  }
 ],
 "metadata": {
  "kernelspec": {
   "display_name": ".venv",
   "language": "python",
   "name": "python3"
  },
  "language_info": {
   "codemirror_mode": {
    "name": "ipython",
    "version": 3
   },
   "file_extension": ".py",
   "mimetype": "text/x-python",
   "name": "python",
   "nbconvert_exporter": "python",
   "pygments_lexer": "ipython3",
   "version": "3.13.1"
  }
 },
 "nbformat": 4,
 "nbformat_minor": 5
}
