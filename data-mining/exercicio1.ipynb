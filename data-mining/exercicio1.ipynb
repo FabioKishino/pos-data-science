{
 "cells": [
  {
   "cell_type": "markdown",
   "id": "52562feb",
   "metadata": {},
   "source": [
    "## Exercício 1 - Coleta de dados da Web\n",
    "### Aluno: Fabio Kishino"
   ]
  },
  {
   "cell_type": "code",
   "execution_count": 15,
   "id": "33736e8d",
   "metadata": {},
   "outputs": [],
   "source": [
    "from pyyoutube import Api\n",
    "import os\n",
    "\n",
    "API_KEY = os.getenv(\"API_KEY\")\n",
    "api = Api(api_key=API_KEY)"
   ]
  },
  {
   "cell_type": "markdown",
   "id": "4f4f9d75",
   "metadata": {},
   "source": [
    "1. Faça uma busca por 50 vídeos com a palavra chave 'eleição'. Faça a procura por conteúdos em São Paulo no período do segundo turno da última eleição presidencial. Identifique o vídeo com mais comentários e exiba as informações desse vídeo"
   ]
  },
  {
   "cell_type": "code",
   "execution_count": 16,
   "id": "498791ef",
   "metadata": {},
   "outputs": [],
   "source": [
    "# Busca por 50 vídeos com a palavra chave 'eleição'\n",
    "eleicoes_videos = api.search_by_keywords(q=\"eleição\", search_type=\"video\", count=50)\n",
    "\n",
    "# Buscar conteúdos em São Paulo no período do segundo turno da última eleição presidencial\n",
    "# Segundo turno 2022: 30 de outubro de 2022\n",
    "sp_videos = api.search_by_keywords(\n",
    "    q=\"eleição\", \n",
    "    search_type=\"video\", \n",
    "    location=\"-23.5505,-46.6333\",\n",
    "    location_radius=\"50km\", \n",
    "    published_after=\"2022-10-25T00:00:00Z\",  # 5 dias antes do segundo turno\n",
    "    published_before=\"2022-11-05T00:00:00Z\",  # 5 dias depois do segundo turno\n",
    "    count=50\n",
    ")"
   ]
  },
  {
   "cell_type": "code",
   "execution_count": 17,
   "id": "212e784b",
   "metadata": {},
   "outputs": [
    {
     "data": {
      "text/plain": [
       "{'kind': 'youtube#searchResult',\n",
       " 'etag': '89G_lchfI-dDNJDlr46Xoo8V27Q',\n",
       " 'id': {'kind': 'youtube#video',\n",
       "  'videoId': '3YG062ig0Fo',\n",
       "  'channelId': None,\n",
       "  'playlistId': None},\n",
       " 'snippet': {'publishedAt': '2022-10-30T04:35:31Z',\n",
       "  'channelId': 'UClaTlgCeEz7DPhXzyYmvGBw',\n",
       "  'title': 'Sobre Violência, Abuso, Eleição e Democracia,  por Alfredo Attié',\n",
       "  'description': '\"Hoje é 30 de outubro, dia da eleição, em segundo turno. Gravo este vídeo a pedido de amigas e amigos, que gostariam de ouvir ...',\n",
       "  'thumbnails': {'default': {'url': 'https://i.ytimg.com/vi/3YG062ig0Fo/default.jpg',\n",
       "    'width': 120,\n",
       "    'height': 90},\n",
       "   'medium': {'url': 'https://i.ytimg.com/vi/3YG062ig0Fo/mqdefault.jpg',\n",
       "    'width': 320,\n",
       "    'height': 180},\n",
       "   'high': {'url': 'https://i.ytimg.com/vi/3YG062ig0Fo/hqdefault.jpg',\n",
       "    'width': 480,\n",
       "    'height': 360},\n",
       "   'standard': None,\n",
       "   'maxres': None},\n",
       "  'channelTitle': 'Alfredo Attié Academia Paulista de Direito',\n",
       "  'liveBroadcastContent': 'none'}}"
      ]
     },
     "execution_count": 17,
     "metadata": {},
     "output_type": "execute_result"
    }
   ],
   "source": [
    "sp_videos.items[0].to_dict()"
   ]
  },
  {
   "cell_type": "code",
   "execution_count": 18,
   "id": "d3a576fd",
   "metadata": {},
   "outputs": [
    {
     "name": "stdout",
     "output_type": "stream",
     "text": [
      "Vídeo 1: Eleições no Corinthians: Craque Neto promove resenha especial, revela personagens e explica dívidas\n",
      "Vídeo 2: Reviravolta em CPMI do INSS passa por eleição de 2026 | BASTIDORES CNN\n",
      "Vídeo 3: Eleições no Corinthians: Ronaldo Giovaneli diz que é preciso ‘limpar’ o Timão’\n",
      "Vídeo 4: CANDIDATO À PRESIDÊNCIA DO CORINTHIANS CANCELA ENTREVISTAS ÀS VÉSPERAS DA ELEIÇÃO\n",
      "Vídeo 5: ELEIÇÃO E TENTATIVA DE NEGOCIAR O TRANSFERBAN | VESSONI ATUALIZA AS NOTÍCIAS DOS BASTIDORES DO TIMÃO\n",
      "Vídeo 6: Eleição presidencial da Bolívia tem resultado histórico com dois candidatos de direita no 2º turno\n",
      "Vídeo 7: CPMI do INSS: reunião de instalação e eleição - 20/08/25 (parte 1)\n",
      "Vídeo 8: Direita comemora derrota de governo na CPMI do INSS com eleição de Carlos Viana para presidência\n",
      "Vídeo 9: CPMI do INSS: reunião de instalação e eleição - 20/08/25 (parte 2)\n",
      "Vídeo 10: 🔴CORINTHIANS: ELEIÇÃO SE APROXIMA! O QUE DEVE MUDAR? COMO DORIVAL VAI MONTAR O TIME CONTRA O VASCO?\n",
      "Vídeo 11: Randolfe fala sobre derrota do governo na eleição para a presidência da CPMI do INSS\n",
      "Vídeo 12: Eleições na Bolívia: Apuração de votos está em andamento | AGORA CNN\n",
      "Vídeo 13: Análise: Bolívia deve ter governo de direita após eleições | CNN PRIME TIME\n",
      "Vídeo 14: CARLINHOS VIDENTE: &quot;O TIME DO BOLSONARO VAI GANHAR A PROXIMA ELEIÇÃO E O PT VAI FICAR DESESPERADO!&quot;\n",
      "Vídeo 15: Análise: Eleição traz esperança para a Bolívia | AGORA CNN\n",
      "Vídeo 16: Eleições na Bolívia: Candidatos de direita lideram votações e presidência será decidida em 2º turno\n",
      "Vídeo 17: Pesquisas de boca de urna na Bolívia indicam segundo turno nas eleições\n",
      "Vídeo 18: Eduardo Girão comenta eleição de Carlos Viana para presidir a CPMI do INSS\n",
      "Vídeo 19: Nova eleição no Corinthians! Quem será o próximo presidente do Timão?\n",
      "Vídeo 20: Eleição na Bolívia pode tirar esquerda do poder após quase 20 anos\n",
      "Vídeo 21: Bolívia terá segundo turno entre senador de centro-direita e ex-presidente conservador | AFP\n",
      "Vídeo 22: Eleição na Bolívia: direita pode retornar ao poder após longa hegemonia da esquerda\n",
      "Vídeo 23: Segredo interno do Corinthians pode impactar eleição do clube!\n",
      "Vídeo 24: CHIQUINI ALERTA: eleição de 2026 #eleições2026 #direita #conservadores #noticias #conservadorismo\n",
      "Vídeo 25: Migração de Venezuelanos dobra após eleição de Maduro\n",
      "Vídeo 26: Quem será o candidato da direita nas eleições em 2026? | Canal Livre\n",
      "Vídeo 27: BOANERGES PERDE A ELEIÇÃO | CABOCLA | CAPÍTULO 141 | MELHOR DO DIA | VIVA\n",
      "Vídeo 28: Jair Bolsonaro à CNN: Não tenho candidato para as eleições de  2026 | CNN ARENA\n",
      "Vídeo 29: A ELEIÇÃO PRA SER DIRETORA NA ESCOLA DO LUCCAS NETO\n",
      "Vídeo 30: Regularize sua situação com a Justiça Eleitoral\n",
      "Vídeo 31: ELEIÇÃO FILME COMPLETO!\n",
      "Vídeo 32: Em evento, Valdemar diz que PT &quot;já perdeu&quot; eleição presidencial de 2026 | CNN PRIME TIME\n",
      "Vídeo 33: Eleições (para crianças)\n",
      "Vídeo 34: A eleição de 2026 já começou, diz Lula\n",
      "Vídeo 35: Eduardo Bolsonaro à CNN: EUA não vão reconhecer eleição sem Bolsonaro | CNN ARENA\n",
      "Vídeo 36: Partido conservador vence eleição na Alemanha | CNN BRASIL\n",
      "Vídeo 37: Eleição 2026: pesquisa aponta Tarcísio como principal presidenciável, diz Sakamoto\n",
      "Vídeo 38: A ELEIÇÃO PARA NOVA REPRESENTANTE DE TURMA NA ESCOLA FANTÁSTICA\n",
      "Vídeo 39: Milícia digital: polícia investiga grupo que tenta colocar eleição em xeque\n",
      "Vídeo 40: &quot;Por isso Bolsonaro perdeu a eleição&quot; - Renato Trezoitão\n",
      "Vídeo 41: ELEIÇÕES 2026! LULA VAI VENCER MAIS UMA VEZ?!\n",
      "Vídeo 42: Paraná Pesquisas divulga cenários para as eleições de 2026 | Jornal da Band\n",
      "Vídeo 43: &quot;Eleição corre o risco de ser resolvida no 1º turno&quot;, diz Lavareda\n",
      "Vídeo 44: Reinaldo: Fascistas acham que podem destruir a democracia com eleição\n",
      "Vídeo 45: Votos brancos e nulos podem invalidar a eleição? | FOLHA EXPLICA\n",
      "Vídeo 46: A eleição | O Incrível Mundo de Gumball | Cartoon Network 🇧🇷\n",
      "Vídeo 47: Sugestão das Forças Armadas será acatada nesta eleição\n",
      "Vídeo 48: Entenda como é a eleição de um novo papa\n",
      "Vídeo 49: PT convoca base para votação interna e eleição de nova liderança\n",
      "Vídeo 50: Pós Eleição! Augusto sofre Impeachment dos sócios e é EXPULSO do cargo de presidente do Corinthians\n"
     ]
    }
   ],
   "source": [
    "for i in range(len(eleicoes_videos.items)):\n",
    "    print(f\"Vídeo {i+1}: {eleicoes_videos.items[i].snippet.title}\")"
   ]
  },
  {
   "cell_type": "code",
   "execution_count": 19,
   "id": "ae1aa6ee",
   "metadata": {},
   "outputs": [
    {
     "name": "stdout",
     "output_type": "stream",
     "text": [
      "Vídeo 1: Sobre Violência, Abuso, Eleição e Democracia,  por Alfredo Attié\n",
      "Vídeo 2: Fim da eleição! E agora? #finanças\n",
      "Vídeo 3: 30/10/2022 Eleição que ficará na história!\n",
      "Vídeo 4: Ônibus gratuito na  eleição  de 2022\n",
      "Vídeo 5: #001 - Eleições, e agora? - Aula Aberta | Rodolfo Penna\n",
      "Vídeo 6: Eleições #eleições #eleições2022\n",
      "Vídeo 7: ELEIÇÕES 2022 - SEGUNDO TURNO 28-10-22\n",
      "Vídeo 8: Bolsonaro x Lula: Quem vai ganhar a eleição?\n",
      "Vídeo 9: O cenário para o segundo turno das eleições e a reta final da campanha\n",
      "Vídeo 10: Democracia #democracia #eleições\n",
      "Vídeo 11: PRONUNCIAMENTO DE LULA APÓS VENCER AS ELEIÇÕES DE 2022\n",
      "Vídeo 12: ELEIÇÕES 2022 - PODCAST CASA ROSADA #023\n",
      "Vídeo 13: Eleição 2022#segundo #turno#candidato a governador Jerônimo.\n",
      "Vídeo 14: Borra Eleição e Futuro Mandato\n",
      "Vídeo 15: LULA PRESIDENTE: VEJA O PRIMEIRO DISCURSO DE LULA APÓS VENCER ELEIÇÃO CONTRA JAIR BOLSONARO\n",
      "Vídeo 16: Eleições 2022: Acompanhe a cobertura do SBT News e o resultado do 2º turno\n",
      "Vídeo 17: VALORANT - DOMINGO DE ELEIÇÃO 2022\n",
      "Vídeo 18: Primeiro PRONUNCIAMENTO DE LULA após VITORIA NAS ELEIÇÕES DE 2022\n",
      "Vídeo 19: MANIFESTAÇÕES, CONFUSÃO E DESESPERO - LULA ELEITO - Sinais de uma eleição polarizada.\n",
      "Vídeo 20: Obrigatoriedade do voto: idoso é obrigado a votar? | Minuto Sem Juridiquês\n",
      "Vídeo 21: A IMPORTÂNCIA DE MINAS GERAIS NA ELEIÇÃO BRASILEIRA\n",
      "Vídeo 22: T1 - #42 - BLOQUEIO NAS ESTRADAS APÓS A ELEIÇÃO - DANOS CAUSADOS AO CONSUMIDOR\n",
      "Vídeo 23: Eleições ao vivo\n",
      "Vídeo 24: Uma rápida análise sobre as eleições…\n",
      "Vídeo 25: maior manifestação do Brasil pós eleição 2022 na avenida Paulista SP  #shorts #brazil #noticias\n",
      "Vídeo 26: T1 - #42 - BLOQUEIO NAS ESTRADAS APÓS A ELEIÇÃO - DANOS CAUSADOS AO CONSUMIDOR\n",
      "Vídeo 27: Eleições ao vivo\n",
      "Vídeo 28: Uma rápida análise sobre as eleições…\n",
      "Vídeo 29: maior manifestação do Brasil pós eleição 2022 na avenida Paulista SP  #shorts #brazil #noticias\n",
      "Vídeo 30: Gigante pela própria natureza!\n",
      "Vídeo 31: Prazo para escolha do voto online ou presencial termina hoje\n",
      "Vídeo 32: Alegria dia de eleição Palmeiras campeão.  votei no 13 então.\n",
      "Vídeo 33: A PEDIDOS SOBRE O QUE VEM APOS RESULTADO ELEIÇÃO  2022 ALGUNS ACONTECIMENTOS MEU ZAP 13991115050\n",
      "Vídeo 34: LULA FAZ DISCURSO EMOCIONANTE E CRITICA BOLSONARO NA FESTA DA VITORIA\n",
      "Vídeo 35: Dia de votação/ nosso presidente voltou! ❤️\n",
      "Vídeo 36: ALEXANDRE DE MORAES SE PRONUNCIA SOBRE OPERAÇÃO DA PRF: &quot;NENHUM CASO IMPEDIU OS ELEITORES&quot;\n",
      "Vídeo 37: WILLIAM BONNER SE PRONUNCIA APÓS VIRAR MEME NAS REDES SOCIAIS | ELEIÇÕES 2022\n",
      "Vídeo 38: Jair Bolsonaro, resultado das Eleições 2022\n",
      "Vídeo 39: eu indo voltar dia eleições 💋\n",
      "Vídeo 40: A importância da democracia no 3 Setor\n",
      "Vídeo 41: #GUANAMBI #RECEBE #CANDIDATO #JERÔNIMO #ELEIÇÃO 2022 #SEGUNDO #TURNO.\n",
      "Vídeo 42: Por que Bolsonaro perdeu? #eleições2022 #lulavsbolsonaro\n",
      "Vídeo 43: Caminhoneiros e manifestantes fecham Rodovias para protestar contra Eleição do Presidente  #shorts\n",
      "Vídeo 44: [HD] Início do “CNN Eleições 2ª Edição” - CNN Brasil (30/10/22)\n",
      "Vídeo 45: DATAFOLHA: LULA TEM 49% NO 2° TURNO, E BOLSONARO, 44% | PESQUISA ELEITORAL | ELEIÇÕES 2022\n",
      "Vídeo 46: PROTESTO CONTRA FRAUDE NAS ELEIÇÕES DO SEGUNDO TURNO\n",
      "Vídeo 47: DEBATE NA GLOBO: LULA CHAMA BOLSONARO DE DESCOMPENSADO | BOLSONARO SE IRRITA E ATACA BONNER E GLOBO\n",
      "Vídeo 48: O episódio envolvendo Roberto Jefferson vai prejudicar a campanha de Bolsonaro?\n",
      "Vídeo 49: (ELEIÇÃO) O GOVERNO DO LULA DEIXOU O BRASIL INTEIRA (BR.) PARADA.Brasil closed down b&#39;cos of LULA.\n",
      "Vídeo 50: O que pode acontecer na Bolsa de Valores e com o Dólar após as eleições de 2022 ?\n"
     ]
    }
   ],
   "source": [
    "for i in range(len(sp_videos.items)):\n",
    "    print(f\"Vídeo {i+1}: {sp_videos.items[i].snippet.title}\")"
   ]
  },
  {
   "cell_type": "code",
   "execution_count": 20,
   "id": "f388780c",
   "metadata": {},
   "outputs": [
    {
     "data": {
      "text/plain": [
       "{'kind': 'youtube#commentThread',\n",
       " 'etag': 'c-sT-VhDgzMKVKmeTpXVAy69q1U',\n",
       " 'id': 'UgwPBLhoJdxl2ShM_Ot4AaABAg',\n",
       " 'snippet': {'channelId': 'UCPX0gLduKAfgr-HJENa7CFw',\n",
       "  'videoId': 'xA9HE5CagKM',\n",
       "  'topLevelComment': {'kind': 'youtube#comment',\n",
       "   'etag': 'uGwrQIj6qGwitQzAsYk-w7b3x30',\n",
       "   'id': 'UgwPBLhoJdxl2ShM_Ot4AaABAg',\n",
       "   'snippet': {'authorDisplayName': '@renatocariani',\n",
       "    'authorProfileImageUrl': 'https://yt3.ggpht.com/ytc/AIdro_mFRcNgmptqL_HVJXr8Gx4WuXar5Dr4KNSh8ucWI00SN6o=s48-c-k-c0x00ffffff-no-rj',\n",
       "    'authorChannelUrl': 'http://www.youtube.com/@renatocariani',\n",
       "    'authorChannelId': {'value': 'UCPX0gLduKAfgr-HJENa7CFw'},\n",
       "    'channelId': 'UCPX0gLduKAfgr-HJENa7CFw',\n",
       "    'videoId': 'xA9HE5CagKM',\n",
       "    'textDisplay': 'Estratégia Concursos: a escolha de 7 em cada 10 aprovados em concursos públicos!<br><br>Clique no link e saiba mais:<br><a href=\"https://estra.ink/4oKw0rp\">https://estra.ink/4oKw0rp</a>',\n",
       "    'textOriginal': 'Estratégia Concursos: a escolha de 7 em cada 10 aprovados em concursos públicos!\\n\\nClique no link e saiba mais:\\nhttps://estra.ink/4oKw0rp',\n",
       "    'parentId': None,\n",
       "    'canRate': True,\n",
       "    'viewerRating': 'none',\n",
       "    'likeCount': 62,\n",
       "    'moderationStatus': None,\n",
       "    'publishedAt': '2025-08-21T21:43:55Z',\n",
       "    'updatedAt': '2025-08-21T21:45:25Z'}},\n",
       "  'canReply': True,\n",
       "  'totalReplyCount': 6,\n",
       "  'isPublic': True},\n",
       " 'replies': {'comments': [{'kind': 'youtube#comment',\n",
       "    'etag': '1Ua0Q-eR3gjTRWK7JJCieiU0VuE',\n",
       "    'id': 'UgwPBLhoJdxl2ShM_Ot4AaABAg.AM5zwJX2cVpAM6GmZpbVAD',\n",
       "    'snippet': {'authorDisplayName': '@Leosouuzaa',\n",
       "     'authorProfileImageUrl': 'https://yt3.ggpht.com/-CY6bhAQb20JQ-7vYLv74prQ4G0V2DbOwOYpFW9J2K3vCB7tEuofd9U4TWa9x8CYW25vSMYU=s48-c-k-c0x00ffffff-no-rj',\n",
       "     'authorChannelUrl': 'http://www.youtube.com/@Leosouuzaa',\n",
       "     'authorChannelId': {'value': 'UC7iD7RHv0zpB_Nrnf2DAc3A'},\n",
       "     'channelId': 'UCPX0gLduKAfgr-HJENa7CFw',\n",
       "     'videoId': 'xA9HE5CagKM',\n",
       "     'textDisplay': 'Renato, você fera, gostaria de ver vocês fazendo um projeto com o Érick Jacquin o chefe mais querido do Brasil..., cara vai ser muito massa, um baita desafio...',\n",
       "     'textOriginal': 'Renato, você fera, gostaria de ver vocês fazendo um projeto com o Érick Jacquin o chefe mais querido do Brasil..., cara vai ser muito massa, um baita desafio...',\n",
       "     'parentId': 'UgwPBLhoJdxl2ShM_Ot4AaABAg',\n",
       "     'canRate': True,\n",
       "     'viewerRating': 'none',\n",
       "     'likeCount': 8,\n",
       "     'moderationStatus': None,\n",
       "     'publishedAt': '2025-08-22T00:19:52Z',\n",
       "     'updatedAt': '2025-08-22T00:19:52Z'}},\n",
       "   {'kind': 'youtube#comment',\n",
       "    'etag': 'bMmX4E2ambLFP1K1ZPRy9z-U-lk',\n",
       "    'id': 'UgwPBLhoJdxl2ShM_Ot4AaABAg.AM5zwJX2cVpAM6IkHTmjm_',\n",
       "    'snippet': {'authorDisplayName': '@luisotavio86',\n",
       "     'authorProfileImageUrl': 'https://yt3.ggpht.com/cyBpwMlZ6feuJjz57lxlCQaTDVfgWe3r9y57iqXJj1OMgwUOHhIwB3bTT8edsU69U3le6GUHRg=s48-c-k-c0x00ffffff-no-rj',\n",
       "     'authorChannelUrl': 'http://www.youtube.com/@luisotavio86',\n",
       "     'authorChannelId': {'value': 'UCqjS2MyzUKmrw6H3zunXngw'},\n",
       "     'channelId': 'UCPX0gLduKAfgr-HJENa7CFw',\n",
       "     'videoId': 'xA9HE5CagKM',\n",
       "     'textDisplay': 'cade maumau ???????',\n",
       "     'textOriginal': 'cade maumau ???????',\n",
       "     'parentId': 'UgwPBLhoJdxl2ShM_Ot4AaABAg',\n",
       "     'canRate': True,\n",
       "     'viewerRating': 'none',\n",
       "     'likeCount': 2,\n",
       "     'moderationStatus': None,\n",
       "     'publishedAt': '2025-08-22T00:37:02Z',\n",
       "     'updatedAt': '2025-08-22T00:37:02Z'}},\n",
       "   {'kind': 'youtube#comment',\n",
       "    'etag': 'rTeKnjBkNp2Pr3tInkX8Y4K9arM',\n",
       "    'id': 'UgwPBLhoJdxl2ShM_Ot4AaABAg.AM5zwJX2cVpAM881YW-Gyh',\n",
       "    'snippet': {'authorDisplayName': '@RenanHenriquedaSilva-v6x',\n",
       "     'authorProfileImageUrl': 'https://yt3.ggpht.com/I5HK-GoZ1li1UrS5x3rBUHKfh65vR0YlpRzFWFFPTn8xnl_MAmp-_8M7P2Gr0pctKNhxfJStjw=s48-c-k-c0x00ffffff-no-rj',\n",
       "     'authorChannelUrl': 'http://www.youtube.com/@RenanHenriquedaSilva-v6x',\n",
       "     'authorChannelId': {'value': 'UCkwALkKMreKgv7EBS2YDPxQ'},\n",
       "     'channelId': 'UCPX0gLduKAfgr-HJENa7CFw',\n",
       "     'videoId': 'xA9HE5CagKM',\n",
       "     'textDisplay': '❤❤❤❤❤EU TENHO UM MONTE DE CICATRIZ NA CABEÇA',\n",
       "     'textOriginal': '❤❤❤❤❤EU TENHO UM MONTE DE CICATRIZ NA CABEÇA',\n",
       "     'parentId': 'UgwPBLhoJdxl2ShM_Ot4AaABAg',\n",
       "     'canRate': True,\n",
       "     'viewerRating': 'none',\n",
       "     'likeCount': 1,\n",
       "     'moderationStatus': None,\n",
       "     'publishedAt': '2025-08-22T17:41:54Z',\n",
       "     'updatedAt': '2025-08-22T17:41:54Z'}},\n",
       "   {'kind': 'youtube#comment',\n",
       "    'etag': '1iG8vGeuMAnBUUPnqSXOIAnHUCA',\n",
       "    'id': 'UgwPBLhoJdxl2ShM_Ot4AaABAg.AM5zwJX2cVpAM889E6BfJ6',\n",
       "    'snippet': {'authorDisplayName': '@RenanHenriquedaSilva-v6x',\n",
       "     'authorProfileImageUrl': 'https://yt3.ggpht.com/I5HK-GoZ1li1UrS5x3rBUHKfh65vR0YlpRzFWFFPTn8xnl_MAmp-_8M7P2Gr0pctKNhxfJStjw=s48-c-k-c0x00ffffff-no-rj',\n",
       "     'authorChannelUrl': 'http://www.youtube.com/@RenanHenriquedaSilva-v6x',\n",
       "     'authorChannelId': {'value': 'UCkwALkKMreKgv7EBS2YDPxQ'},\n",
       "     'channelId': 'UCPX0gLduKAfgr-HJENa7CFw',\n",
       "     'videoId': 'xA9HE5CagKM',\n",
       "     'textDisplay': 'TENHO 25 ANOS',\n",
       "     'textOriginal': 'TENHO 25 ANOS',\n",
       "     'parentId': 'UgwPBLhoJdxl2ShM_Ot4AaABAg',\n",
       "     'canRate': True,\n",
       "     'viewerRating': 'none',\n",
       "     'likeCount': 1,\n",
       "     'moderationStatus': None,\n",
       "     'publishedAt': '2025-08-22T17:42:56Z',\n",
       "     'updatedAt': '2025-08-22T17:42:56Z'}},\n",
       "   {'kind': 'youtube#comment',\n",
       "    'etag': 'mpMtwmqw3GbHy77iJjr-2csC5vI',\n",
       "    'id': 'UgwPBLhoJdxl2ShM_Ot4AaABAg.AM5zwJX2cVpAM8CEhTCG3T',\n",
       "    'snippet': {'authorDisplayName': '@RenanHenriquedaSilva-v6x',\n",
       "     'authorProfileImageUrl': 'https://yt3.ggpht.com/I5HK-GoZ1li1UrS5x3rBUHKfh65vR0YlpRzFWFFPTn8xnl_MAmp-_8M7P2Gr0pctKNhxfJStjw=s48-c-k-c0x00ffffff-no-rj',\n",
       "     'authorChannelUrl': 'http://www.youtube.com/@RenanHenriquedaSilva-v6x',\n",
       "     'authorChannelId': {'value': 'UCkwALkKMreKgv7EBS2YDPxQ'},\n",
       "     'channelId': 'UCPX0gLduKAfgr-HJENa7CFw',\n",
       "     'videoId': 'xA9HE5CagKM',\n",
       "     'textDisplay': '❤❤❤❤❤❤❤ COITADA DA DOUTORA NA MÃO DO JULIÃO O CARA É UM MONSTRO CAVALO PRETO MUITO PERICULOSO',\n",
       "     'textOriginal': '❤❤❤❤❤❤❤ COITADA DA DOUTORA NA MÃO DO JULIÃO O CARA É UM MONSTRO CAVALO PRETO MUITO PERICULOSO',\n",
       "     'parentId': 'UgwPBLhoJdxl2ShM_Ot4AaABAg',\n",
       "     'canRate': True,\n",
       "     'viewerRating': 'none',\n",
       "     'likeCount': 1,\n",
       "     'moderationStatus': None,\n",
       "     'publishedAt': '2025-08-22T18:18:38Z',\n",
       "     'updatedAt': '2025-08-22T18:18:38Z'}}]}}"
      ]
     },
     "execution_count": 20,
     "metadata": {},
     "output_type": "execute_result"
    }
   ],
   "source": [
    "# comments = api.get_comment_threads(video_id=\"3YG062ig0Fo\")\n",
    "\n",
    "video_stats = api.get_comment_threads(video_id=\"xA9HE5CagKM\")\n",
    "video_stats.items[0].to_dict()\n"
   ]
  },
  {
   "cell_type": "code",
   "execution_count": 21,
   "id": "26b6bc67",
   "metadata": {},
   "outputs": [
    {
     "name": "stdout",
     "output_type": "stream",
     "text": [
      "Vídeo com mais comentários: WILLIAM BONNER SE PRONUNCIA APÓS VIRAR MEME NAS REDES SOCIAIS | ELEIÇÕES 2022\n",
      "Quantidade de comentários: 559\n"
     ]
    }
   ],
   "source": [
    "max_amount_of_comments = 0\n",
    "video_with_more_comments = None\n",
    "\n",
    "for item in sp_videos.items:\n",
    "    video_stats = api.get_video_by_id(video_id=item.id.videoId)\n",
    "    \n",
    "    # Garantir que o campo exista\n",
    "    if video_stats.items[0].statistics.commentCount is not None:\n",
    "        comments_count = int(video_stats.items[0].statistics.commentCount)\n",
    "    else:\n",
    "        comments_count = 0\n",
    "\n",
    "    if comments_count > max_amount_of_comments:\n",
    "        max_amount_of_comments = comments_count\n",
    "        video_with_more_comments = item.snippet.title\n",
    "\n",
    "print(\"Vídeo com mais comentários:\", video_with_more_comments)\n",
    "print(\"Quantidade de comentários:\", max_amount_of_comments)\n"
   ]
  },
  {
   "cell_type": "markdown",
   "id": "438a3622",
   "metadata": {},
   "source": [
    "2. Faça um coletor que capture as reviews da página principal de: https://www.apontador.com.br/local/sp/campinas/faculdades_e_universidades/88Q2E372/unicamp.html."
   ]
  },
  {
   "cell_type": "code",
   "execution_count": 22,
   "id": "ed1521df",
   "metadata": {},
   "outputs": [
    {
     "name": "stdout",
     "output_type": "stream",
     "text": [
      "Review 1:\n",
      "A UNICAMP é uma universidade muito boa. O fato de estar um pouco distante de Campinas (40 mins) promove uma experiência diferenciada, criando uma comunidade muito mais engajada. A qualidade do ensino é de padrão mundial. Orgulho de ser ex-aluno!\n",
      "\n",
      "Review 2:\n",
      "Cursei engenharia de computação na Unicamp e foram os melhores anos da minha vida. O ambiente universitário, a abundância de conhecimento ao meu redor em todas as áreas, tudo isso contribuiu para minha formação, não apenas técnica.\n",
      "\n",
      "Voltaria a qualquer momento e a recomendo para quem quiser usufruir do melhor ensino do país, estando apto a pagar com a dedicação necessária.\n",
      "\n",
      "Review 3:\n",
      "É muito agradável estudar em um campus grande, com muitas locais para estudar: mesas no ciclo básico, biblioteca central ou de outros institutos, uma sala vazia...\n",
      "Uma universidade excelente não só pelo ensino, mas pelos pessoas, colegas e professores que realmente fazem o lugar.\n",
      "\n",
      "Review 4:\n",
      "Eita como Barao Geraldo e friooooooo aff\n",
      "\n",
      "Review 5:\n",
      "A unicamp é a maior universidade de Campinas, possuindo, inclusive, ônibus de circulação interna. O campus principal fica localizado no distrito de Barão Geraldo, em Campinas, mas há ainda outros campus menores em Limeira e Piracicaba. A universidade integra o ranking de melhores universidades do Brasil e hospeda em Campinas o Hospital das Clínicas, com atendimento gratuito integralmente pelo SUS, além de também  administrar um hospital em Sumaré. Antigamente, a universidade era conhecida pela complexidade do vestibular, que consistia de forma descritiva em ambas as fases. Hoje, a universidade se adequou ao sistema de respostas alternativas, porém, começou a requisitar 3 redações, e o número de candidatos por vaga continua bastante alto.  Ela também é conhecida pelo investimento em pesquisas e pelo desenvolvimento de novos projetos. \n",
      "A biblioteca central é gigantesca e possui inúmeros títulos disponíveis para locação e, de acordo com o tipo de formação (graduação, mestrado, doutorado), é possível pegar mais livros. \n",
      "Cada curso possui um centro específico, excepto pelo pessoal da Engenharia que possui o Ciclo Básico para todos os cursos. A universidade ainda disponibiliza moradia para os alunos carentes e que comprovarem não ter condições de se manter.\n",
      "\n",
      "Review 6:\n",
      "Unicamp é umas das mais cobiçadas universidades de Campinas e região, devido a sua imensa qualidade, por ser federal se torna a melhor faculdade da região. Sem contar o seu Campus que é sensacional, como se fosse uma cidade, possui quadras com prédios, até uma linha de ônibus circular que permanece dentro do campus apenas devido o seu tamanho. A universidade conta também com o Hospital das Clínicas, gratuito pelo SUS e administrar o hospital de Sumaré. As provas para ingressar na faculdade são por fases com respostas alternativas e requisitando cerca de 3 redações o número de candidatos por vaga é bem alto principalmente no curso de medicina, o problema fica no pagamento do vestibular que é cerca de 120~140 reais para poder executa-la. A graduação é em tempo integral com isso a faculdade possui centro de pesquisas, onde é possível fazer iniciações cientificas ou mini empresas, para que os alunos tenham uma breve praticidade no mercado de trabalho devido a dificuldade para o estagio devido ao tempo integral em aula.\n",
      "\n"
     ]
    }
   ],
   "source": [
    "import requests\n",
    "from bs4 import BeautifulSoup\n",
    "\n",
    "url = 'https://www.apontador.com.br/local/sp/campinas/faculdades_e_universidades/88Q2E372/unicamp.html'\n",
    "\n",
    "response = requests.get(url)\n",
    "soup = BeautifulSoup(response.content, 'html.parser')\n",
    "\n",
    "review_elements = soup.find_all(\"div\", {\"class\": \"store-comments__text\"})\n",
    "\n",
    "reviews = [review.get_text(strip=True) for review in review_elements]\n",
    "\n",
    "for i in range(len(reviews)):\n",
    "    print(f'Review {i+1}:')\n",
    "    print(reviews[i] + '\\n')\n"
   ]
  },
  {
   "cell_type": "markdown",
   "id": "c99b344c",
   "metadata": {},
   "source": [
    "3. Crie uma aplicação que usa o Selenium para abrir o site https://www.uol.com.br/ e rolar a página para baixo até o fim do conteúdo."
   ]
  },
  {
   "cell_type": "code",
   "execution_count": 9,
   "id": "91e1cdde",
   "metadata": {},
   "outputs": [
    {
     "name": "stderr",
     "output_type": "stream",
     "text": [
      "INFO:WDM:====== WebDriver manager ======\n",
      "INFO:WDM:Get LATEST chromedriver version for google-chrome\n",
      "INFO:WDM:Get LATEST chromedriver version for google-chrome\n",
      "INFO:WDM:Driver [/Users/fabiokishino/.wdm/drivers/chromedriver/mac64/139.0.7258.138/chromedriver-mac-arm64/chromedriver] found in cache\n"
     ]
    }
   ],
   "source": [
    "from selenium import webdriver\n",
    "from selenium.webdriver.support.ui import WebDriverWait\n",
    "from selenium.webdriver.support import expected_conditions as ec\n",
    "from selenium.webdriver.common.by import By\n",
    "from selenium.webdriver.chrome.options import Options\n",
    "from selenium.webdriver.chrome.service import Service\n",
    "from webdriver_manager.chrome import ChromeDriverManager\n",
    "from bs4 import BeautifulSoup\n",
    "import time\n",
    "\n",
    "# Inicializa o Chrome driver\n",
    "driver = webdriver.Chrome(service=Service(ChromeDriverManager().install()))\n",
    "\n",
    "try:\n",
    "  driver.get('https://www.uol.com.br/')\n",
    "\n",
    "  driver.execute_script(\"window.scrollTo(0, document.body.scrollHeight);\")\n",
    "\n",
    "  time.sleep(5)\n",
    "  \n",
    "finally:\n",
    "  driver.quit()\n"
   ]
  }
 ],
 "metadata": {
  "kernelspec": {
   "display_name": ".venv",
   "language": "python",
   "name": "python3"
  },
  "language_info": {
   "codemirror_mode": {
    "name": "ipython",
    "version": 3
   },
   "file_extension": ".py",
   "mimetype": "text/x-python",
   "name": "python",
   "nbconvert_exporter": "python",
   "pygments_lexer": "ipython3",
   "version": "3.13.1"
  }
 },
 "nbformat": 4,
 "nbformat_minor": 5
}
